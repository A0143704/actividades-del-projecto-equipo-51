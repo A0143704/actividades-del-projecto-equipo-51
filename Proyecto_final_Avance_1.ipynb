{
  "nbformat": 4,
  "nbformat_minor": 0,
  "metadata": {
    "colab": {
      "provenance": [],
      "authorship_tag": "ABX9TyPsVcT0R27sHZvCOqyRKLPG",
      "include_colab_link": true
    },
    "kernelspec": {
      "name": "python3",
      "display_name": "Python 3"
    },
    "language_info": {
      "name": "python"
    }
  },
  "cells": [
    {
      "cell_type": "markdown",
      "metadata": {
        "id": "view-in-github",
        "colab_type": "text"
      },
      "source": [
        "<a href=\"https://colab.research.google.com/github/PosgradoMNA/actividades-del-projecto-equipo-51/blob/main/Proyecto_final_Avance_1.ipynb\" target=\"_parent\"><img src=\"https://colab.research.google.com/assets/colab-badge.svg\" alt=\"Open In Colab\"/></a>"
      ]
    },
    {
      "cell_type": "markdown",
      "source": [
        "Integrantes:\n",
        "\n",
        "A01110946 - Maytorena Espinosa de los Monteros, Fernando\n",
        "\n",
        "A01794299 - Ornelas Rodríguez, Eunice\n",
        "# **Proyecto Final del Equipo 51 - Avance 1**\n",
        "\n",
        "\n",
        "**Conjunto de datos**\n",
        "\n",
        "USA Real Estate Dataset\n",
        "\n",
        "**Generado por**\n",
        "\n",
        "[National Association of REALTORS](https://www.realtor.com/), un sitio web de listados de bienes raíces operado por Move, Inc., subsidiaria de News Corp. y con sede en Santa Clara, California. Es el segundo sitio web de listados de bienes raíces más visitado en los Estados Unidos a partir de 2021, con más de 100 millones de usuarios activos mensuales.\n",
        "\n",
        "**Link de descarga**\n",
        "\n",
        "[USA Real Estate Dataset](https://www.kaggle.com/datasets/ahmedshahriarsakib/usa-real-estate-dataset)\n",
        "\n",
        "**Descripción del conjunto de datos**\n",
        "\n",
        "realtor-data.csv (900mil entradas)\n",
        "\n",
        "Contiene 1 archivo CSV con 12 columnas:\n",
        "\n",
        "*   status: a la venta o listo para construir.\n",
        "*   price: precio de 0 a 875 millones.\n",
        "*   bed: cantidad de cuartos.\n",
        "*   bath: cantidad de baños.\n",
        "*   acre_lot: tamaño del terreno en acres.\n",
        "*   full_address: dirección completa.\n",
        "*   street: calle.\n",
        "*   city:ciudad.\n",
        "*   state: estado.\n",
        "*   zip_code: código postal.\n",
        "*   house_size: tamaño de la casa en pies cuadrados.\n",
        "*   sold_date: fecha en la que la casa fue vendida.\n",
        "\n",
        "**Preguntas de investigación relacionadas a los datos**\n",
        "\n",
        "1.   Conociendo los valores de las demás variables de una vivienda, ¿podemos determinar su precio de venta?\n",
        "2.   Qué factores impactan más en el precio de una vivienda, ¿los factores macroeconómicos, o los factores microeconómicos?\n",
        "1.   Dentro de los factores macroecónmicos, ¿cuál tiene mayor impacto sobre el valor de una vivienda?\n",
        "2.   Conociendo el último precio de venta de una vivienda (años atrás), ¿podemos determinar su precio de venta actual?\n",
        "1.   ¿Cuál es el atributo de una vivienda que mayor impacto tiene para determinar su precio de venta?\n",
        "2.   ¿El precio de una vivienda varía significativamente según el estado en el que se encuentra?\n",
        "1.   ¿Se puede identificar el factor que afecta de mayor manera la plusvalía de cada zona/estado?\n",
        "2.   En base a los datos de otras viviendas en la zona, ¿podemos predecir con que facilidad se venderá una propiedad?\n",
        "1.   ¿Se puede ajustar el precio de una propiedad en base a la demanda de otras propiedades similares?\n",
        "\n",
        "**Actores (empresas, sectores de la sociedad, organismos descentralizados, gobierno,etc), que podrían estar interesados en las preguntas mencionadas anteriormente:**\n",
        "\n",
        "*   Federal Housing Administration (FHA): Aseguran hipotecas sobre viviendas unifamiliares, propiedades multifamiliares, centros de atención residencial y hospitales en todo Estados Unidos y sus territorios.\n",
        "*   Fannie Mae: proporciona una fuente confiable de financiamiento hipotecario asequible en Estados Unidos.\n",
        "*   Freddie Mac: es una empresa que cotiza en bolsa y patrocinada por el gobierno, fue creado para expandir el mercado secundario de hipotecas en los Estados Unidos."
      ],
      "metadata": {
        "id": "H0eoZnWqHCVH"
      }
    }
  ]
}