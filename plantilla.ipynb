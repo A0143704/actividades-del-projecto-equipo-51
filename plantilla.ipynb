{
  "cells": [
    {
      "cell_type": "markdown",
      "metadata": {
        "colab_type": "text",
        "id": "view-in-github"
      },
      "source": [
        "<a href=\"https://colab.research.google.com/github/tec03/ParaAssignment01-/blob/main/assignment01.ipynb\" target=\"_parent\"><img src=\"https://colab.research.google.com/assets/colab-badge.svg\" alt=\"Open In Colab\"/></a>"
      ]
    },
    {
      "cell_type": "code",
      "execution_count": 2,
      "metadata": {
        "colab": {
          "base_uri": "https://localhost:8080/"
        },
        "id": "LzUSMM79NR9P",
        "outputId": "0e6cb421-1096-426a-b31a-f61d059def81"
      },
      "outputs": [
        {
          "name": "stdout",
          "output_type": "stream",
          "text": [
            "assignment01 for GitJobish03 and edited in git, and 18\n"
          ]
        }
      ],
      "source": [
        "print('assignment01 for GitJobish03 and edited in git, and 18')"
      ]
    },
    {
      "cell_type": "markdown",
      "metadata": {},
      "source": [
        "# Proyecto Final del Equipo 51"
      ]
    },
    {
      "cell_type": "markdown",
      "metadata": {
        "id": "mxM_WppZPMFx"
      },
      "source": [
        "1. El nombre que caracteriza el conjunto de datos: **USA Real Estate Dataset**\n",
        "2. La organización que lo generó: **Realtor.com**\n",
        "3. Incluya un enlace de Internet donde se puedan descargar el base de datos en línea: **https://www.kaggle.com/datasets/ahmedshahriarsakib/usa-real-estate-dataset**\n",
        "4. Describe el conjunto de datos. ¿Qué datos contiene?\n",
        "5. ¿Cuáles son algunas de las preguntas de investigación que podría responder con estos datos? Enumere al menos OCHO (no responda las preguntas):\n",
        "   * **Conociendo los valores de las demás variables de una vivienda, ¿podemos determinar su precio de venta?**\n",
        "   * **Qué factores impactan más en el precio de una vivienda, ¿los factores macroeconómicos, o los factores microeconómicos?**\n",
        "   * **Dentro de los factores macroecónmicos, ¿cuál tiene mayor impacto sobre el valor de una vivienda?**\n",
        "   * **Conociendo el último precio de venta de una vivienda (años atrás), ¿podemos determinar su precio de venta actual?**\n",
        "   * **¿Cuál es el atributo de una vivienda que mayor impacto tiene para determinar su precio de venta?**\n",
        "   * **¿El precio de una vivienda varía significativamente según el estado en el que se encuentra?**\n",
        "   * **¿Se puede identificar el factor que afecta de mayor manera la plusvalía de cada zona/estado?**\n",
        "   * **En base a los datos de otras viviendas en la zona, ¿podemos predecir con que facilidad se venderá una propiedad?**\n",
        "   * **¿Se puede ajustar el precio de una propiedad en base a la demanda de otras propiedades similares?**\n",
        "6. ¿Qué actor (empresa, sector de la sociedad, organismo descentralizado, gobierno, etc.) estaría interesado en las preguntas mencionadas que identificó? **Federal Housing Administration (FHA), Fannie Mae, Freddie Mac**\n",
        "\n",
        "\\\n",
        "\\\n",
        "\\\n",
        "\\\n",
        "\\\n",
        "\\\n",
        "\\\n",
        "\\\n",
        "\\\n",
        "\\\n",
        "\\\n",
        "\\\n",
        "\\\n",
        "\\\n",
        "___"
      ]
    },
    {
      "cell_type": "markdown",
      "metadata": {},
      "source": [
        "# Proyecto Final del Equipo 51"
      ]
    },
    {
      "cell_type": "markdown",
      "metadata": {},
      "source": [
        "### **USA Real Estate Dataset**\n",
        "##### **By Realtor.com** - (*https://www.kaggle.com/datasets/ahmedshahriarsakib/usa-real-estate-dataset*)"
      ]
    },
    {
      "cell_type": "markdown",
      "metadata": {},
      "source": [
        "La siguiente base de datos contiene...\n",
        "Por lo tanto, esta base de datos podría ayudarnos a responder algunas de las siguientes preguntas de interes:\n",
        "   * Conociendo los valores de las demás variables de una vivienda, ¿podemos determinar su precio de venta?\n",
        "   * Qué factores impactan más en el precio de una vivienda, ¿los factores macroeconómicos, o los factores microeconómicos?\n",
        "   * Dentro de los factores macroecónmicos, ¿cuál tiene mayor impacto sobre el valor de una vivienda?\n",
        "   * Conociendo el último precio de venta de una vivienda (años atrás), ¿podemos determinar su precio de venta actual?\n",
        "   * ¿Cuál es el atributo de una vivienda que mayor impacto tiene para determinar su precio de venta?\n",
        "   * ¿El precio de una vivienda varía significativamente según el estado en el que se encuentra?\n",
        "   * ¿Se puede identificar el factor que afecta de mayor manera la plusvalía de cada zona/estado?\n",
        "   * En base a los datos de otras viviendas en la zona, ¿podemos predecir con que facilidad se venderá una propiedad?\n",
        "   * ¿Se puede ajustar el precio de una propiedad en base a la demanda de otras propiedades similares?\n",
        "\n",
        "Responder algunas de estas preguntas por medio de un análisis profundo de los datos de la vivienda en Estados Unidos, sería de gran utilidad para instituciones gubernamentales de financiamiento a la vivienda como lo son la Federal Housing Administration, Fannie Mae o Freddie Mac.\n",
        "\n",
        "\\\n",
        "\\\n",
        "\\\n",
        "\\\n",
        "\\\n",
        "\\\n",
        "\\\n",
        "\\\n",
        "\\\n",
        "\\\n",
        "\\\n",
        "\n",
        "---"
      ]
    },
    {
      "cell_type": "markdown",
      "metadata": {},
      "source": [
        "Algunas notas:\n",
        "Factores que afectan los precios de la vivienda (Estados Unidos)\n",
        "\n",
        "Dos bases de datos diferentes, pero relacionadas; podríamos utilizar la base de datos USA Real Estate Dataset,\n",
        "y para mayor profunidad de análisis, complementar con U.S. Housing Market Factors.\n",
        "\n",
        "Base de datos 1:\n",
        "- USA Real Estate Dataset | Datos de venta de propiedades en Estados Unidos | 923,159 registros\n",
        "https://www.kaggle.com/datasets/ahmedshahriarsakib/usa-real-estate-dataset\n",
        "\n",
        "Base de datos 2:\n",
        "- U.S. Housing Market Factors | Datos macroeconómicos de Estados Unidos que influyen sobre los precios de venta de vivienda en Estados Unidos\n",
        "https://www.kaggle.com/datasets/faryarmemon/usa-housing-market-factors?select=Monthly_Macroeconomic_Factors.csv\n",
        "\n",
        "\n",
        "Problemática social: El acceso a una vivienda digna es un derecho humano universal, al cual más de dos mil millones de habitantes en el planeta\n",
        "no tienen acceso. Con el fin de resolver este problema, los gobiernos se han dado a la tarea de desarrollar políticas públicas que faciliten a\n",
        "sus ciudadanos el acceso a la vivienda; sin embargo, al no tener acceso a datos concretos sobre el resultado de sus estretegia, en muchos casos\n",
        "estas políticas han estado mal enfocadas, representando un desperdicio de esfuerzos y recursos al no tener. Tener la capacidad de entender qué\n",
        "atributos impactan en mayor medida los precios de la vivienda ayuda a las instituciones gubernamentales a ajustar sus políticas públicas con el\n",
        "fin de mejorar sus estrategias en materia de vivienda accesible. Esto, a su vez, impacta ampliamente en la capacidad de las familias de acceder\n",
        "a una vivienda digna."
      ]
    }
  ],
  "metadata": {
    "colab": {
      "include_colab_link": true,
      "name": "assignment01.ipynb",
      "provenance": []
    },
    "kernelspec": {
      "display_name": "Python 3.10.7 64-bit",
      "language": "python",
      "name": "python3"
    },
    "language_info": {
      "codemirror_mode": {
        "name": "ipython",
        "version": 3
      },
      "file_extension": ".py",
      "mimetype": "text/x-python",
      "name": "python",
      "nbconvert_exporter": "python",
      "pygments_lexer": "ipython3",
      "version": "3.10.7"
    },
    "vscode": {
      "interpreter": {
        "hash": "1cbadf7e30f156f4e0b68f4bca81fa70237e67691d6ebe573bb449e31d409fb8"
      }
    }
  },
  "nbformat": 4,
  "nbformat_minor": 0
}
